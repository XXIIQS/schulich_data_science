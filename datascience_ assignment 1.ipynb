{
 "cells": [
  {
   "cell_type": "code",
   "execution_count": 56,
   "metadata": {},
   "outputs": [],
   "source": [
    "import pandas as pd\n",
    "import numpy as np\n",
    "import seaborn as sns"
   ]
  },
  {
   "cell_type": "code",
   "execution_count": 57,
   "metadata": {},
   "outputs": [],
   "source": [
    "df = pd.read_csv(\"/Users/shuoqu/Downloads/sales_data.csv\")"
   ]
  },
  {
   "cell_type": "code",
   "execution_count": 58,
   "metadata": {},
   "outputs": [
    {
     "name": "stdout",
     "output_type": "stream",
     "text": [
      "<class 'pandas.core.frame.DataFrame'>\n",
      "RangeIndex: 1050 entries, 0 to 1049\n",
      "Data columns (total 5 columns):\n",
      " #   Column      Non-Null Count  Dtype  \n",
      "---  ------      --------------  -----  \n",
      " 0   Product     947 non-null    object \n",
      " 1   Region      946 non-null    object \n",
      " 2   Price       945 non-null    float64\n",
      " 3   Units Sold  946 non-null    float64\n",
      " 4   Sale Date   1050 non-null   object \n",
      "dtypes: float64(2), object(3)\n",
      "memory usage: 41.1+ KB\n"
     ]
    }
   ],
   "source": [
    "df.info()"
   ]
  },
  {
   "cell_type": "code",
   "execution_count": 59,
   "metadata": {},
   "outputs": [
    {
     "data": {
      "text/html": [
       "<div>\n",
       "<style scoped>\n",
       "    .dataframe tbody tr th:only-of-type {\n",
       "        vertical-align: middle;\n",
       "    }\n",
       "\n",
       "    .dataframe tbody tr th {\n",
       "        vertical-align: top;\n",
       "    }\n",
       "\n",
       "    .dataframe thead th {\n",
       "        text-align: right;\n",
       "    }\n",
       "</style>\n",
       "<table border=\"1\" class=\"dataframe\">\n",
       "  <thead>\n",
       "    <tr style=\"text-align: right;\">\n",
       "      <th></th>\n",
       "      <th>Product</th>\n",
       "      <th>Region</th>\n",
       "      <th>Price</th>\n",
       "      <th>Units Sold</th>\n",
       "      <th>Sale Date</th>\n",
       "    </tr>\n",
       "  </thead>\n",
       "  <tbody>\n",
       "    <tr>\n",
       "      <th>count</th>\n",
       "      <td>947</td>\n",
       "      <td>946</td>\n",
       "      <td>945.000000</td>\n",
       "      <td>946.000000</td>\n",
       "      <td>1050</td>\n",
       "    </tr>\n",
       "    <tr>\n",
       "      <th>unique</th>\n",
       "      <td>50</td>\n",
       "      <td>10</td>\n",
       "      <td>NaN</td>\n",
       "      <td>NaN</td>\n",
       "      <td>1000</td>\n",
       "    </tr>\n",
       "    <tr>\n",
       "      <th>top</th>\n",
       "      <td>Product_45</td>\n",
       "      <td>Region_9</td>\n",
       "      <td>NaN</td>\n",
       "      <td>NaN</td>\n",
       "      <td>2022-07-28</td>\n",
       "    </tr>\n",
       "    <tr>\n",
       "      <th>freq</th>\n",
       "      <td>28</td>\n",
       "      <td>109</td>\n",
       "      <td>NaN</td>\n",
       "      <td>NaN</td>\n",
       "      <td>2</td>\n",
       "    </tr>\n",
       "    <tr>\n",
       "      <th>mean</th>\n",
       "      <td>NaN</td>\n",
       "      <td>NaN</td>\n",
       "      <td>107.598688</td>\n",
       "      <td>10.048626</td>\n",
       "      <td>NaN</td>\n",
       "    </tr>\n",
       "    <tr>\n",
       "      <th>std</th>\n",
       "      <td>NaN</td>\n",
       "      <td>NaN</td>\n",
       "      <td>124.020322</td>\n",
       "      <td>3.172261</td>\n",
       "      <td>NaN</td>\n",
       "    </tr>\n",
       "    <tr>\n",
       "      <th>min</th>\n",
       "      <td>NaN</td>\n",
       "      <td>NaN</td>\n",
       "      <td>0.200000</td>\n",
       "      <td>2.000000</td>\n",
       "      <td>NaN</td>\n",
       "    </tr>\n",
       "    <tr>\n",
       "      <th>25%</th>\n",
       "      <td>NaN</td>\n",
       "      <td>NaN</td>\n",
       "      <td>29.430000</td>\n",
       "      <td>8.000000</td>\n",
       "      <td>NaN</td>\n",
       "    </tr>\n",
       "    <tr>\n",
       "      <th>50%</th>\n",
       "      <td>NaN</td>\n",
       "      <td>NaN</td>\n",
       "      <td>78.130000</td>\n",
       "      <td>10.000000</td>\n",
       "      <td>NaN</td>\n",
       "    </tr>\n",
       "    <tr>\n",
       "      <th>75%</th>\n",
       "      <td>NaN</td>\n",
       "      <td>NaN</td>\n",
       "      <td>142.570000</td>\n",
       "      <td>12.000000</td>\n",
       "      <td>NaN</td>\n",
       "    </tr>\n",
       "    <tr>\n",
       "      <th>max</th>\n",
       "      <td>NaN</td>\n",
       "      <td>NaN</td>\n",
       "      <td>2143.300000</td>\n",
       "      <td>22.000000</td>\n",
       "      <td>NaN</td>\n",
       "    </tr>\n",
       "  </tbody>\n",
       "</table>\n",
       "</div>"
      ],
      "text/plain": [
       "           Product    Region        Price  Units Sold   Sale Date\n",
       "count          947       946   945.000000  946.000000        1050\n",
       "unique          50        10          NaN         NaN        1000\n",
       "top     Product_45  Region_9          NaN         NaN  2022-07-28\n",
       "freq            28       109          NaN         NaN           2\n",
       "mean           NaN       NaN   107.598688   10.048626         NaN\n",
       "std            NaN       NaN   124.020322    3.172261         NaN\n",
       "min            NaN       NaN     0.200000    2.000000         NaN\n",
       "25%            NaN       NaN    29.430000    8.000000         NaN\n",
       "50%            NaN       NaN    78.130000   10.000000         NaN\n",
       "75%            NaN       NaN   142.570000   12.000000         NaN\n",
       "max            NaN       NaN  2143.300000   22.000000         NaN"
      ]
     },
     "execution_count": 59,
     "metadata": {},
     "output_type": "execute_result"
    }
   ],
   "source": [
    "df.describe(include= \"all\")"
   ]
  },
  {
   "cell_type": "code",
   "execution_count": 60,
   "metadata": {},
   "outputs": [
    {
     "data": {
      "text/html": [
       "<div>\n",
       "<style scoped>\n",
       "    .dataframe tbody tr th:only-of-type {\n",
       "        vertical-align: middle;\n",
       "    }\n",
       "\n",
       "    .dataframe tbody tr th {\n",
       "        vertical-align: top;\n",
       "    }\n",
       "\n",
       "    .dataframe thead th {\n",
       "        text-align: right;\n",
       "    }\n",
       "</style>\n",
       "<table border=\"1\" class=\"dataframe\">\n",
       "  <thead>\n",
       "    <tr style=\"text-align: right;\">\n",
       "      <th></th>\n",
       "      <th>Product</th>\n",
       "      <th>Region</th>\n",
       "      <th>Price</th>\n",
       "      <th>Units Sold</th>\n",
       "      <th>Sale Date</th>\n",
       "    </tr>\n",
       "  </thead>\n",
       "  <tbody>\n",
       "    <tr>\n",
       "      <th>0</th>\n",
       "      <td>NaN</td>\n",
       "      <td>Region_6</td>\n",
       "      <td>75.96</td>\n",
       "      <td>10.0</td>\n",
       "      <td>2022-01-01</td>\n",
       "    </tr>\n",
       "    <tr>\n",
       "      <th>1</th>\n",
       "      <td>NaN</td>\n",
       "      <td>Region_1</td>\n",
       "      <td>175.78</td>\n",
       "      <td>8.0</td>\n",
       "      <td>2022-01-02</td>\n",
       "    </tr>\n",
       "    <tr>\n",
       "      <th>2</th>\n",
       "      <td>Product_46</td>\n",
       "      <td>Region_3</td>\n",
       "      <td>20.43</td>\n",
       "      <td>12.0</td>\n",
       "      <td>2022-01-03</td>\n",
       "    </tr>\n",
       "    <tr>\n",
       "      <th>3</th>\n",
       "      <td>Product_36</td>\n",
       "      <td>Region_1</td>\n",
       "      <td>12.77</td>\n",
       "      <td>10.0</td>\n",
       "      <td>2022-01-04</td>\n",
       "    </tr>\n",
       "    <tr>\n",
       "      <th>4</th>\n",
       "      <td>Product_17</td>\n",
       "      <td>Region_6</td>\n",
       "      <td>125.69</td>\n",
       "      <td>6.0</td>\n",
       "      <td>2022-01-05</td>\n",
       "    </tr>\n",
       "    <tr>\n",
       "      <th>5</th>\n",
       "      <td>Product_45</td>\n",
       "      <td>Region_1</td>\n",
       "      <td>8.63</td>\n",
       "      <td>11.0</td>\n",
       "      <td>2022-01-06</td>\n",
       "    </tr>\n",
       "    <tr>\n",
       "      <th>6</th>\n",
       "      <td>Product_31</td>\n",
       "      <td>Region_3</td>\n",
       "      <td>23.73</td>\n",
       "      <td>6.0</td>\n",
       "      <td>2022-01-07</td>\n",
       "    </tr>\n",
       "    <tr>\n",
       "      <th>7</th>\n",
       "      <td>Product_18</td>\n",
       "      <td>Region_7</td>\n",
       "      <td>19.27</td>\n",
       "      <td>9.0</td>\n",
       "      <td>2022-01-08</td>\n",
       "    </tr>\n",
       "    <tr>\n",
       "      <th>8</th>\n",
       "      <td>Product_16</td>\n",
       "      <td>Region_9</td>\n",
       "      <td>30.70</td>\n",
       "      <td>14.0</td>\n",
       "      <td>2022-01-09</td>\n",
       "    </tr>\n",
       "    <tr>\n",
       "      <th>9</th>\n",
       "      <td>Product_9</td>\n",
       "      <td>Region_2</td>\n",
       "      <td>264.05</td>\n",
       "      <td>7.0</td>\n",
       "      <td>2022-01-10</td>\n",
       "    </tr>\n",
       "  </tbody>\n",
       "</table>\n",
       "</div>"
      ],
      "text/plain": [
       "      Product    Region   Price  Units Sold   Sale Date\n",
       "0         NaN  Region_6   75.96        10.0  2022-01-01\n",
       "1         NaN  Region_1  175.78         8.0  2022-01-02\n",
       "2  Product_46  Region_3   20.43        12.0  2022-01-03\n",
       "3  Product_36  Region_1   12.77        10.0  2022-01-04\n",
       "4  Product_17  Region_6  125.69         6.0  2022-01-05\n",
       "5  Product_45  Region_1    8.63        11.0  2022-01-06\n",
       "6  Product_31  Region_3   23.73         6.0  2022-01-07\n",
       "7  Product_18  Region_7   19.27         9.0  2022-01-08\n",
       "8  Product_16  Region_9   30.70        14.0  2022-01-09\n",
       "9   Product_9  Region_2  264.05         7.0  2022-01-10"
      ]
     },
     "execution_count": 60,
     "metadata": {},
     "output_type": "execute_result"
    }
   ],
   "source": [
    "df.head(10)"
   ]
  },
  {
   "cell_type": "code",
   "execution_count": 61,
   "metadata": {},
   "outputs": [
    {
     "data": {
      "text/html": [
       "<div>\n",
       "<style scoped>\n",
       "    .dataframe tbody tr th:only-of-type {\n",
       "        vertical-align: middle;\n",
       "    }\n",
       "\n",
       "    .dataframe tbody tr th {\n",
       "        vertical-align: top;\n",
       "    }\n",
       "\n",
       "    .dataframe thead th {\n",
       "        text-align: right;\n",
       "    }\n",
       "</style>\n",
       "<table border=\"1\" class=\"dataframe\">\n",
       "  <thead>\n",
       "    <tr style=\"text-align: right;\">\n",
       "      <th></th>\n",
       "      <th>Product</th>\n",
       "      <th>Region</th>\n",
       "      <th>Price</th>\n",
       "      <th>Units Sold</th>\n",
       "      <th>Sale Date</th>\n",
       "    </tr>\n",
       "  </thead>\n",
       "  <tbody>\n",
       "    <tr>\n",
       "      <th>1040</th>\n",
       "      <td>Product_44</td>\n",
       "      <td>Region_9</td>\n",
       "      <td>101.69</td>\n",
       "      <td>NaN</td>\n",
       "      <td>2024-09-11</td>\n",
       "    </tr>\n",
       "    <tr>\n",
       "      <th>1041</th>\n",
       "      <td>Product_30</td>\n",
       "      <td>Region_3</td>\n",
       "      <td>8.76</td>\n",
       "      <td>13.0</td>\n",
       "      <td>2024-06-23</td>\n",
       "    </tr>\n",
       "    <tr>\n",
       "      <th>1042</th>\n",
       "      <td>Product_6</td>\n",
       "      <td>Region_9</td>\n",
       "      <td>14.36</td>\n",
       "      <td>16.0</td>\n",
       "      <td>2024-08-13</td>\n",
       "    </tr>\n",
       "    <tr>\n",
       "      <th>1043</th>\n",
       "      <td>Product_20</td>\n",
       "      <td>Region_6</td>\n",
       "      <td>58.50</td>\n",
       "      <td>9.0</td>\n",
       "      <td>2022-10-06</td>\n",
       "    </tr>\n",
       "    <tr>\n",
       "      <th>1044</th>\n",
       "      <td>Product_48</td>\n",
       "      <td>Region_10</td>\n",
       "      <td>23.57</td>\n",
       "      <td>6.0</td>\n",
       "      <td>2024-02-28</td>\n",
       "    </tr>\n",
       "    <tr>\n",
       "      <th>1045</th>\n",
       "      <td>Product_45</td>\n",
       "      <td>Region_7</td>\n",
       "      <td>78.69</td>\n",
       "      <td>8.0</td>\n",
       "      <td>2022-07-28</td>\n",
       "    </tr>\n",
       "    <tr>\n",
       "      <th>1046</th>\n",
       "      <td>Product_1</td>\n",
       "      <td>Region_6</td>\n",
       "      <td>NaN</td>\n",
       "      <td>8.0</td>\n",
       "      <td>2022-08-02</td>\n",
       "    </tr>\n",
       "    <tr>\n",
       "      <th>1047</th>\n",
       "      <td>Product_17</td>\n",
       "      <td>Region_2</td>\n",
       "      <td>114.37</td>\n",
       "      <td>11.0</td>\n",
       "      <td>2023-12-18</td>\n",
       "    </tr>\n",
       "    <tr>\n",
       "      <th>1048</th>\n",
       "      <td>NaN</td>\n",
       "      <td>Region_8</td>\n",
       "      <td>NaN</td>\n",
       "      <td>5.0</td>\n",
       "      <td>2023-12-27</td>\n",
       "    </tr>\n",
       "    <tr>\n",
       "      <th>1049</th>\n",
       "      <td>Product_16</td>\n",
       "      <td>Region_2</td>\n",
       "      <td>69.30</td>\n",
       "      <td>8.0</td>\n",
       "      <td>2024-02-23</td>\n",
       "    </tr>\n",
       "  </tbody>\n",
       "</table>\n",
       "</div>"
      ],
      "text/plain": [
       "         Product     Region   Price  Units Sold   Sale Date\n",
       "1040  Product_44   Region_9  101.69         NaN  2024-09-11\n",
       "1041  Product_30   Region_3    8.76        13.0  2024-06-23\n",
       "1042   Product_6   Region_9   14.36        16.0  2024-08-13\n",
       "1043  Product_20   Region_6   58.50         9.0  2022-10-06\n",
       "1044  Product_48  Region_10   23.57         6.0  2024-02-28\n",
       "1045  Product_45   Region_7   78.69         8.0  2022-07-28\n",
       "1046   Product_1   Region_6     NaN         8.0  2022-08-02\n",
       "1047  Product_17   Region_2  114.37        11.0  2023-12-18\n",
       "1048         NaN   Region_8     NaN         5.0  2023-12-27\n",
       "1049  Product_16   Region_2   69.30         8.0  2024-02-23"
      ]
     },
     "execution_count": 61,
     "metadata": {},
     "output_type": "execute_result"
    }
   ],
   "source": [
    "df.tail(10)"
   ]
  },
  {
   "cell_type": "code",
   "execution_count": 62,
   "metadata": {},
   "outputs": [
    {
     "data": {
      "text/plain": [
       "<Axes: >"
      ]
     },
     "execution_count": 62,
     "metadata": {},
     "output_type": "execute_result"
    },
    {
     "data": {
      "image/png": "[encoded data removed]",
      "text/plain": [
       "<Figure size 640x480 with 1 Axes>"
      ]
     },
     "metadata": {},
     "output_type": "display_data"
    }
   ],
   "source": [
    "sns.boxplot(df['Price'])"
   ]
  },
  {
   "cell_type": "code",
   "execution_count": 63,
   "metadata": {},
   "outputs": [],
   "source": [
    "##identify outliers for price\n",
    "q3 = df['Price'].quantile(0.75)\n",
    "q1 = df['Price'].quantile(0.25)\n",
    "iqr = q3 - q1\n",
    "upper_whisker = q3 + 1.5 *iqr"
   ]
  },
  {
   "cell_type": "code",
   "execution_count": 64,
   "metadata": {},
   "outputs": [
    {
     "data": {
      "text/plain": [
       "312.28"
      ]
     },
     "execution_count": 64,
     "metadata": {},
     "output_type": "execute_result"
    }
   ],
   "source": [
    "upper_whisker"
   ]
  },
  {
   "cell_type": "code",
   "execution_count": 65,
   "metadata": {},
   "outputs": [],
   "source": [
    "price_outliers = df[df['Price'] > upper_whisker]"
   ]
  },
  {
   "cell_type": "code",
   "execution_count": 66,
   "metadata": {},
   "outputs": [
    {
     "data": {
      "text/html": [
       "<div>\n",
       "<style scoped>\n",
       "    .dataframe tbody tr th:only-of-type {\n",
       "        vertical-align: middle;\n",
       "    }\n",
       "\n",
       "    .dataframe tbody tr th {\n",
       "        vertical-align: top;\n",
       "    }\n",
       "\n",
       "    .dataframe thead th {\n",
       "        text-align: right;\n",
       "    }\n",
       "</style>\n",
       "<table border=\"1\" class=\"dataframe\">\n",
       "  <thead>\n",
       "    <tr style=\"text-align: right;\">\n",
       "      <th></th>\n",
       "      <th>Product</th>\n",
       "      <th>Region</th>\n",
       "      <th>Price</th>\n",
       "      <th>Units Sold</th>\n",
       "      <th>Sale Date</th>\n",
       "    </tr>\n",
       "  </thead>\n",
       "  <tbody>\n",
       "    <tr>\n",
       "      <th>107</th>\n",
       "      <td>Product_49</td>\n",
       "      <td>Region_2</td>\n",
       "      <td>329.37</td>\n",
       "      <td>8.0</td>\n",
       "      <td>2022-04-18</td>\n",
       "    </tr>\n",
       "    <tr>\n",
       "      <th>119</th>\n",
       "      <td>Product_35</td>\n",
       "      <td>NaN</td>\n",
       "      <td>401.31</td>\n",
       "      <td>16.0</td>\n",
       "      <td>2022-04-30</td>\n",
       "    </tr>\n",
       "    <tr>\n",
       "      <th>133</th>\n",
       "      <td>Product_40</td>\n",
       "      <td>Region_5</td>\n",
       "      <td>368.76</td>\n",
       "      <td>7.0</td>\n",
       "      <td>2022-05-14</td>\n",
       "    </tr>\n",
       "    <tr>\n",
       "      <th>189</th>\n",
       "      <td>Product_35</td>\n",
       "      <td>Region_1</td>\n",
       "      <td>511.74</td>\n",
       "      <td>10.0</td>\n",
       "      <td>2022-07-09</td>\n",
       "    </tr>\n",
       "    <tr>\n",
       "      <th>195</th>\n",
       "      <td>Product_32</td>\n",
       "      <td>NaN</td>\n",
       "      <td>390.63</td>\n",
       "      <td>7.0</td>\n",
       "      <td>2022-07-15</td>\n",
       "    </tr>\n",
       "    <tr>\n",
       "      <th>234</th>\n",
       "      <td>Product_34</td>\n",
       "      <td>Region_9</td>\n",
       "      <td>496.61</td>\n",
       "      <td>8.0</td>\n",
       "      <td>2022-08-23</td>\n",
       "    </tr>\n",
       "    <tr>\n",
       "      <th>264</th>\n",
       "      <td>Product_14</td>\n",
       "      <td>Region_7</td>\n",
       "      <td>517.29</td>\n",
       "      <td>10.0</td>\n",
       "      <td>2022-09-22</td>\n",
       "    </tr>\n",
       "    <tr>\n",
       "      <th>275</th>\n",
       "      <td>Product_16</td>\n",
       "      <td>Region_4</td>\n",
       "      <td>433.17</td>\n",
       "      <td>13.0</td>\n",
       "      <td>2022-10-03</td>\n",
       "    </tr>\n",
       "    <tr>\n",
       "      <th>276</th>\n",
       "      <td>Product_48</td>\n",
       "      <td>Region_8</td>\n",
       "      <td>418.24</td>\n",
       "      <td>14.0</td>\n",
       "      <td>2022-10-04</td>\n",
       "    </tr>\n",
       "    <tr>\n",
       "      <th>293</th>\n",
       "      <td>Product_22</td>\n",
       "      <td>Region_2</td>\n",
       "      <td>493.20</td>\n",
       "      <td>NaN</td>\n",
       "      <td>2022-10-21</td>\n",
       "    </tr>\n",
       "    <tr>\n",
       "      <th>348</th>\n",
       "      <td>Product_40</td>\n",
       "      <td>Region_9</td>\n",
       "      <td>321.66</td>\n",
       "      <td>11.0</td>\n",
       "      <td>2022-12-15</td>\n",
       "    </tr>\n",
       "    <tr>\n",
       "      <th>437</th>\n",
       "      <td>Product_26</td>\n",
       "      <td>Region_8</td>\n",
       "      <td>585.17</td>\n",
       "      <td>13.0</td>\n",
       "      <td>2023-03-14</td>\n",
       "    </tr>\n",
       "    <tr>\n",
       "      <th>488</th>\n",
       "      <td>Product_2</td>\n",
       "      <td>Region_4</td>\n",
       "      <td>347.20</td>\n",
       "      <td>NaN</td>\n",
       "      <td>2023-05-04</td>\n",
       "    </tr>\n",
       "    <tr>\n",
       "      <th>500</th>\n",
       "      <td>Product_40</td>\n",
       "      <td>Region_6</td>\n",
       "      <td>426.02</td>\n",
       "      <td>NaN</td>\n",
       "      <td>2023-05-16</td>\n",
       "    </tr>\n",
       "    <tr>\n",
       "      <th>526</th>\n",
       "      <td>Product_31</td>\n",
       "      <td>Region_4</td>\n",
       "      <td>505.01</td>\n",
       "      <td>11.0</td>\n",
       "      <td>2023-06-11</td>\n",
       "    </tr>\n",
       "    <tr>\n",
       "      <th>528</th>\n",
       "      <td>Product_19</td>\n",
       "      <td>Region_8</td>\n",
       "      <td>368.16</td>\n",
       "      <td>5.0</td>\n",
       "      <td>2023-06-13</td>\n",
       "    </tr>\n",
       "    <tr>\n",
       "      <th>546</th>\n",
       "      <td>Product_14</td>\n",
       "      <td>Region_9</td>\n",
       "      <td>338.95</td>\n",
       "      <td>14.0</td>\n",
       "      <td>2023-07-01</td>\n",
       "    </tr>\n",
       "    <tr>\n",
       "      <th>551</th>\n",
       "      <td>Product_50</td>\n",
       "      <td>Region_8</td>\n",
       "      <td>447.75</td>\n",
       "      <td>11.0</td>\n",
       "      <td>2023-07-06</td>\n",
       "    </tr>\n",
       "    <tr>\n",
       "      <th>584</th>\n",
       "      <td>Product_40</td>\n",
       "      <td>NaN</td>\n",
       "      <td>345.97</td>\n",
       "      <td>8.0</td>\n",
       "      <td>2023-08-08</td>\n",
       "    </tr>\n",
       "    <tr>\n",
       "      <th>585</th>\n",
       "      <td>Product_37</td>\n",
       "      <td>Region_4</td>\n",
       "      <td>315.48</td>\n",
       "      <td>10.0</td>\n",
       "      <td>2023-08-09</td>\n",
       "    </tr>\n",
       "    <tr>\n",
       "      <th>605</th>\n",
       "      <td>Product_29</td>\n",
       "      <td>Region_10</td>\n",
       "      <td>460.20</td>\n",
       "      <td>7.0</td>\n",
       "      <td>2023-08-29</td>\n",
       "    </tr>\n",
       "    <tr>\n",
       "      <th>618</th>\n",
       "      <td>Product_2</td>\n",
       "      <td>Region_2</td>\n",
       "      <td>340.04</td>\n",
       "      <td>10.0</td>\n",
       "      <td>2023-09-11</td>\n",
       "    </tr>\n",
       "    <tr>\n",
       "      <th>624</th>\n",
       "      <td>Product_17</td>\n",
       "      <td>Region_10</td>\n",
       "      <td>420.47</td>\n",
       "      <td>5.0</td>\n",
       "      <td>2023-09-17</td>\n",
       "    </tr>\n",
       "    <tr>\n",
       "      <th>670</th>\n",
       "      <td>Product_8</td>\n",
       "      <td>Region_10</td>\n",
       "      <td>352.86</td>\n",
       "      <td>12.0</td>\n",
       "      <td>2023-11-02</td>\n",
       "    </tr>\n",
       "    <tr>\n",
       "      <th>684</th>\n",
       "      <td>Product_45</td>\n",
       "      <td>Region_8</td>\n",
       "      <td>580.60</td>\n",
       "      <td>NaN</td>\n",
       "      <td>2023-11-16</td>\n",
       "    </tr>\n",
       "    <tr>\n",
       "      <th>696</th>\n",
       "      <td>NaN</td>\n",
       "      <td>Region_5</td>\n",
       "      <td>487.81</td>\n",
       "      <td>10.0</td>\n",
       "      <td>2023-11-28</td>\n",
       "    </tr>\n",
       "    <tr>\n",
       "      <th>728</th>\n",
       "      <td>Product_31</td>\n",
       "      <td>Region_3</td>\n",
       "      <td>665.00</td>\n",
       "      <td>9.0</td>\n",
       "      <td>2023-12-30</td>\n",
       "    </tr>\n",
       "    <tr>\n",
       "      <th>743</th>\n",
       "      <td>Product_30</td>\n",
       "      <td>Region_1</td>\n",
       "      <td>385.96</td>\n",
       "      <td>12.0</td>\n",
       "      <td>2024-01-14</td>\n",
       "    </tr>\n",
       "    <tr>\n",
       "      <th>789</th>\n",
       "      <td>Product_7</td>\n",
       "      <td>NaN</td>\n",
       "      <td>605.87</td>\n",
       "      <td>NaN</td>\n",
       "      <td>2024-02-29</td>\n",
       "    </tr>\n",
       "    <tr>\n",
       "      <th>814</th>\n",
       "      <td>Product_26</td>\n",
       "      <td>Region_2</td>\n",
       "      <td>623.60</td>\n",
       "      <td>12.0</td>\n",
       "      <td>2024-03-25</td>\n",
       "    </tr>\n",
       "    <tr>\n",
       "      <th>818</th>\n",
       "      <td>Product_39</td>\n",
       "      <td>Region_10</td>\n",
       "      <td>318.96</td>\n",
       "      <td>7.0</td>\n",
       "      <td>2024-03-29</td>\n",
       "    </tr>\n",
       "    <tr>\n",
       "      <th>834</th>\n",
       "      <td>Product_15</td>\n",
       "      <td>Region_6</td>\n",
       "      <td>510.06</td>\n",
       "      <td>10.0</td>\n",
       "      <td>2024-04-14</td>\n",
       "    </tr>\n",
       "    <tr>\n",
       "      <th>847</th>\n",
       "      <td>Product_45</td>\n",
       "      <td>Region_4</td>\n",
       "      <td>342.44</td>\n",
       "      <td>4.0</td>\n",
       "      <td>2024-04-27</td>\n",
       "    </tr>\n",
       "    <tr>\n",
       "      <th>853</th>\n",
       "      <td>Product_41</td>\n",
       "      <td>Region_1</td>\n",
       "      <td>713.29</td>\n",
       "      <td>10.0</td>\n",
       "      <td>2024-05-03</td>\n",
       "    </tr>\n",
       "    <tr>\n",
       "      <th>910</th>\n",
       "      <td>NaN</td>\n",
       "      <td>Region_1</td>\n",
       "      <td>335.67</td>\n",
       "      <td>7.0</td>\n",
       "      <td>2024-06-29</td>\n",
       "    </tr>\n",
       "    <tr>\n",
       "      <th>925</th>\n",
       "      <td>Product_7</td>\n",
       "      <td>Region_8</td>\n",
       "      <td>314.34</td>\n",
       "      <td>10.0</td>\n",
       "      <td>2024-07-14</td>\n",
       "    </tr>\n",
       "    <tr>\n",
       "      <th>946</th>\n",
       "      <td>Product_31</td>\n",
       "      <td>Region_4</td>\n",
       "      <td>345.20</td>\n",
       "      <td>11.0</td>\n",
       "      <td>2024-08-04</td>\n",
       "    </tr>\n",
       "    <tr>\n",
       "      <th>948</th>\n",
       "      <td>Product_23</td>\n",
       "      <td>Region_8</td>\n",
       "      <td>362.00</td>\n",
       "      <td>12.0</td>\n",
       "      <td>2024-08-06</td>\n",
       "    </tr>\n",
       "    <tr>\n",
       "      <th>969</th>\n",
       "      <td>Product_15</td>\n",
       "      <td>Region_8</td>\n",
       "      <td>2143.30</td>\n",
       "      <td>5.0</td>\n",
       "      <td>2024-08-27</td>\n",
       "    </tr>\n",
       "    <tr>\n",
       "      <th>1001</th>\n",
       "      <td>Product_29</td>\n",
       "      <td>Region_10</td>\n",
       "      <td>460.20</td>\n",
       "      <td>7.0</td>\n",
       "      <td>2023-08-29</td>\n",
       "    </tr>\n",
       "    <tr>\n",
       "      <th>1014</th>\n",
       "      <td>Product_26</td>\n",
       "      <td>Region_8</td>\n",
       "      <td>585.17</td>\n",
       "      <td>13.0</td>\n",
       "      <td>2023-03-14</td>\n",
       "    </tr>\n",
       "    <tr>\n",
       "      <th>1015</th>\n",
       "      <td>Product_7</td>\n",
       "      <td>Region_8</td>\n",
       "      <td>314.34</td>\n",
       "      <td>10.0</td>\n",
       "      <td>2024-07-14</td>\n",
       "    </tr>\n",
       "    <tr>\n",
       "      <th>1025</th>\n",
       "      <td>Product_23</td>\n",
       "      <td>Region_8</td>\n",
       "      <td>362.00</td>\n",
       "      <td>12.0</td>\n",
       "      <td>2024-08-06</td>\n",
       "    </tr>\n",
       "  </tbody>\n",
       "</table>\n",
       "</div>"
      ],
      "text/plain": [
       "         Product     Region    Price  Units Sold   Sale Date\n",
       "107   Product_49   Region_2   329.37         8.0  2022-04-18\n",
       "119   Product_35        NaN   401.31        16.0  2022-04-30\n",
       "133   Product_40   Region_5   368.76         7.0  2022-05-14\n",
       "189   Product_35   Region_1   511.74        10.0  2022-07-09\n",
       "195   Product_32        NaN   390.63         7.0  2022-07-15\n",
       "234   Product_34   Region_9   496.61         8.0  2022-08-23\n",
       "264   Product_14   Region_7   517.29        10.0  2022-09-22\n",
       "275   Product_16   Region_4   433.17        13.0  2022-10-03\n",
       "276   Product_48   Region_8   418.24        14.0  2022-10-04\n",
       "293   Product_22   Region_2   493.20         NaN  2022-10-21\n",
       "348   Product_40   Region_9   321.66        11.0  2022-12-15\n",
       "437   Product_26   Region_8   585.17        13.0  2023-03-14\n",
       "488    Product_2   Region_4   347.20         NaN  2023-05-04\n",
       "500   Product_40   Region_6   426.02         NaN  2023-05-16\n",
       "526   Product_31   Region_4   505.01        11.0  2023-06-11\n",
       "528   Product_19   Region_8   368.16         5.0  2023-06-13\n",
       "546   Product_14   Region_9   338.95        14.0  2023-07-01\n",
       "551   Product_50   Region_8   447.75        11.0  2023-07-06\n",
       "584   Product_40        NaN   345.97         8.0  2023-08-08\n",
       "585   Product_37   Region_4   315.48        10.0  2023-08-09\n",
       "605   Product_29  Region_10   460.20         7.0  2023-08-29\n",
       "618    Product_2   Region_2   340.04        10.0  2023-09-11\n",
       "624   Product_17  Region_10   420.47         5.0  2023-09-17\n",
       "670    Product_8  Region_10   352.86        12.0  2023-11-02\n",
       "684   Product_45   Region_8   580.60         NaN  2023-11-16\n",
       "696          NaN   Region_5   487.81        10.0  2023-11-28\n",
       "728   Product_31   Region_3   665.00         9.0  2023-12-30\n",
       "743   Product_30   Region_1   385.96        12.0  2024-01-14\n",
       "789    Product_7        NaN   605.87         NaN  2024-02-29\n",
       "814   Product_26   Region_2   623.60        12.0  2024-03-25\n",
       "818   Product_39  Region_10   318.96         7.0  2024-03-29\n",
       "834   Product_15   Region_6   510.06        10.0  2024-04-14\n",
       "847   Product_45   Region_4   342.44         4.0  2024-04-27\n",
       "853   Product_41   Region_1   713.29        10.0  2024-05-03\n",
       "910          NaN   Region_1   335.67         7.0  2024-06-29\n",
       "925    Product_7   Region_8   314.34        10.0  2024-07-14\n",
       "946   Product_31   Region_4   345.20        11.0  2024-08-04\n",
       "948   Product_23   Region_8   362.00        12.0  2024-08-06\n",
       "969   Product_15   Region_8  2143.30         5.0  2024-08-27\n",
       "1001  Product_29  Region_10   460.20         7.0  2023-08-29\n",
       "1014  Product_26   Region_8   585.17        13.0  2023-03-14\n",
       "1015   Product_7   Region_8   314.34        10.0  2024-07-14\n",
       "1025  Product_23   Region_8   362.00        12.0  2024-08-06"
      ]
     },
     "execution_count": 66,
     "metadata": {},
     "output_type": "execute_result"
    }
   ],
   "source": [
    "price_outliers"
   ]
  },
  {
   "cell_type": "code",
   "execution_count": 67,
   "metadata": {},
   "outputs": [],
   "source": [
    "#drop outliers for price column\n",
    "df.drop(df[df['Price'] > upper_whisker].index, axis= 0, inplace= True)"
   ]
  },
  {
   "cell_type": "code",
   "execution_count": 68,
   "metadata": {},
   "outputs": [
    {
     "name": "stdout",
     "output_type": "stream",
     "text": [
      "<class 'pandas.core.frame.DataFrame'>\n",
      "Index: 1007 entries, 0 to 1049\n",
      "Data columns (total 5 columns):\n",
      " #   Column      Non-Null Count  Dtype  \n",
      "---  ------      --------------  -----  \n",
      " 0   Product     906 non-null    object \n",
      " 1   Region      907 non-null    object \n",
      " 2   Price       902 non-null    float64\n",
      " 3   Units Sold  908 non-null    float64\n",
      " 4   Sale Date   1007 non-null   object \n",
      "dtypes: float64(2), object(3)\n",
      "memory usage: 47.2+ KB\n"
     ]
    }
   ],
   "source": [
    "df.info()"
   ]
  },
  {
   "cell_type": "code",
   "execution_count": 69,
   "metadata": {},
   "outputs": [
    {
     "data": {
      "text/plain": [
       "<Axes: >"
      ]
     },
     "execution_count": 69,
     "metadata": {},
     "output_type": "execute_result"
    },
    {
     "data": {
      "image/png": "[encoded data removed]",
      "text/plain": [
       "<Figure size 640x480 with 1 Axes>"
      ]
     },
     "metadata": {},
     "output_type": "display_data"
    }
   ],
   "source": [
    "sns.boxplot(df['Units Sold'])"
   ]
  },
  {
   "cell_type": "code",
   "execution_count": 70,
   "metadata": {},
   "outputs": [],
   "source": [
    "## identify outliers for 'Units Sold'\n",
    "u_q3 = df['Units Sold'].quantile(0.75)\n",
    "u_q1 = df['Units Sold'].quantile(0.25)\n",
    "u_iqr = u_q3 - u_q1\n",
    "u_upper_whisker = u_q3 + 1.5 * u_iqr\n",
    "Units_outliers = df[df['Units Sold'] > u_upper_whisker]\n"
   ]
  },
  {
   "cell_type": "code",
   "execution_count": 71,
   "metadata": {},
   "outputs": [
    {
     "data": {
      "text/html": [
       "<div>\n",
       "<style scoped>\n",
       "    .dataframe tbody tr th:only-of-type {\n",
       "        vertical-align: middle;\n",
       "    }\n",
       "\n",
       "    .dataframe tbody tr th {\n",
       "        vertical-align: top;\n",
       "    }\n",
       "\n",
       "    .dataframe thead th {\n",
       "        text-align: right;\n",
       "    }\n",
       "</style>\n",
       "<table border=\"1\" class=\"dataframe\">\n",
       "  <thead>\n",
       "    <tr style=\"text-align: right;\">\n",
       "      <th></th>\n",
       "      <th>Product</th>\n",
       "      <th>Region</th>\n",
       "      <th>Price</th>\n",
       "      <th>Units Sold</th>\n",
       "      <th>Sale Date</th>\n",
       "    </tr>\n",
       "  </thead>\n",
       "  <tbody>\n",
       "    <tr>\n",
       "      <th>221</th>\n",
       "      <td>Product_5</td>\n",
       "      <td>Region_5</td>\n",
       "      <td>50.36</td>\n",
       "      <td>20.0</td>\n",
       "      <td>2022-08-10</td>\n",
       "    </tr>\n",
       "    <tr>\n",
       "      <th>232</th>\n",
       "      <td>Product_14</td>\n",
       "      <td>Region_3</td>\n",
       "      <td>104.27</td>\n",
       "      <td>19.0</td>\n",
       "      <td>2022-08-21</td>\n",
       "    </tr>\n",
       "    <tr>\n",
       "      <th>719</th>\n",
       "      <td>Product_50</td>\n",
       "      <td>Region_4</td>\n",
       "      <td>86.73</td>\n",
       "      <td>22.0</td>\n",
       "      <td>2023-12-21</td>\n",
       "    </tr>\n",
       "    <tr>\n",
       "      <th>912</th>\n",
       "      <td>Product_22</td>\n",
       "      <td>Region_8</td>\n",
       "      <td>NaN</td>\n",
       "      <td>19.0</td>\n",
       "      <td>2024-07-01</td>\n",
       "    </tr>\n",
       "    <tr>\n",
       "      <th>962</th>\n",
       "      <td>Product_13</td>\n",
       "      <td>Region_7</td>\n",
       "      <td>0.61</td>\n",
       "      <td>19.0</td>\n",
       "      <td>2024-08-20</td>\n",
       "    </tr>\n",
       "  </tbody>\n",
       "</table>\n",
       "</div>"
      ],
      "text/plain": [
       "        Product    Region   Price  Units Sold   Sale Date\n",
       "221   Product_5  Region_5   50.36        20.0  2022-08-10\n",
       "232  Product_14  Region_3  104.27        19.0  2022-08-21\n",
       "719  Product_50  Region_4   86.73        22.0  2023-12-21\n",
       "912  Product_22  Region_8     NaN        19.0  2024-07-01\n",
       "962  Product_13  Region_7    0.61        19.0  2024-08-20"
      ]
     },
     "execution_count": 71,
     "metadata": {},
     "output_type": "execute_result"
    }
   ],
   "source": [
    "Units_outliers"
   ]
  },
  {
   "cell_type": "code",
   "execution_count": 72,
   "metadata": {},
   "outputs": [],
   "source": [
    "## drop outliers for \"Units Sold\"\n",
    "df.drop(df[df['Units Sold'] > u_upper_whisker].index, axis= 0, inplace= True)"
   ]
  },
  {
   "cell_type": "code",
   "execution_count": 73,
   "metadata": {},
   "outputs": [
    {
     "name": "stdout",
     "output_type": "stream",
     "text": [
      "<class 'pandas.core.frame.DataFrame'>\n",
      "Index: 1002 entries, 0 to 1049\n",
      "Data columns (total 5 columns):\n",
      " #   Column      Non-Null Count  Dtype  \n",
      "---  ------      --------------  -----  \n",
      " 0   Product     901 non-null    object \n",
      " 1   Region      902 non-null    object \n",
      " 2   Price       898 non-null    float64\n",
      " 3   Units Sold  903 non-null    float64\n",
      " 4   Sale Date   1002 non-null   object \n",
      "dtypes: float64(2), object(3)\n",
      "memory usage: 47.0+ KB\n"
     ]
    }
   ],
   "source": [
    "df.info()"
   ]
  },
  {
   "cell_type": "code",
   "execution_count": 74,
   "metadata": {},
   "outputs": [
    {
     "data": {
      "text/plain": [
       "Product\n",
       "Product_1      90.580455\n",
       "Product_10     67.994706\n",
       "Product_11     75.495385\n",
       "Product_12     92.660000\n",
       "Product_13     92.926000\n",
       "Product_14     91.799375\n",
       "Product_15     54.259286\n",
       "Product_16     80.726667\n",
       "Product_17     78.282778\n",
       "Product_18     67.986154\n",
       "Product_19    109.362353\n",
       "Product_2     103.170714\n",
       "Product_20    140.132000\n",
       "Product_21     91.728667\n",
       "Product_22     85.097500\n",
       "Product_23     93.024211\n",
       "Product_24    109.566923\n",
       "Product_25    110.250000\n",
       "Product_26    100.463333\n",
       "Product_27     78.409286\n",
       "Product_28     81.148750\n",
       "Product_29    116.181000\n",
       "Product_3      59.752000\n",
       "Product_30    108.020000\n",
       "Product_31     92.285263\n",
       "Product_32     63.188182\n",
       "Product_33     83.993750\n",
       "Product_34    105.961538\n",
       "Product_35     92.617857\n",
       "Product_36     80.066667\n",
       "Product_37     73.800000\n",
       "Product_38     73.677143\n",
       "Product_39     98.602222\n",
       "Product_4      83.006842\n",
       "Product_40     91.836667\n",
       "Product_41    109.204667\n",
       "Product_42     76.066875\n",
       "Product_43     62.914000\n",
       "Product_44     94.071875\n",
       "Product_45     80.459600\n",
       "Product_46    101.934118\n",
       "Product_47    112.509167\n",
       "Product_48     93.665909\n",
       "Product_49    140.560000\n",
       "Product_5      73.693846\n",
       "Product_50     94.331250\n",
       "Product_6      83.853529\n",
       "Product_7      83.395000\n",
       "Product_8      77.828000\n",
       "Product_9      79.339286\n",
       "Name: Price, dtype: float64"
      ]
     },
     "execution_count": 74,
     "metadata": {},
     "output_type": "execute_result"
    }
   ],
   "source": [
    "## Price means for each Product\n",
    "df.groupby('Product')['Price'].mean()"
   ]
  },
  {
   "cell_type": "code",
   "execution_count": 76,
   "metadata": {},
   "outputs": [],
   "source": [
    "## fill missing value in 'price' by using the mean for each product\n",
    "df['Price'].fillna(df.groupby('Product')['Price'].transform('mean'), inplace= True)"
   ]
  },
  {
   "cell_type": "code",
   "execution_count": 77,
   "metadata": {},
   "outputs": [
    {
     "name": "stdout",
     "output_type": "stream",
     "text": [
      "12\n"
     ]
    }
   ],
   "source": [
    "##check if missing value are removed\n",
    "print(df['Price'].isnull().sum())"
   ]
  },
  {
   "cell_type": "code",
   "execution_count": 81,
   "metadata": {},
   "outputs": [
    {
     "name": "stdout",
     "output_type": "stream",
     "text": [
      "     Product     Region  Price  Units Sold   Sale Date\n",
      "91       NaN   Region_5    NaN        14.0  2022-04-02\n",
      "224      NaN   Region_8    NaN         7.0  2022-08-13\n",
      "272      NaN        NaN    NaN         NaN  2022-09-30\n",
      "307      NaN   Region_8    NaN         5.0  2022-11-04\n",
      "412      NaN  Region_10    NaN         9.0  2023-02-17\n",
      "664      NaN  Region_10    NaN        14.0  2023-10-27\n",
      "725      NaN   Region_8    NaN         5.0  2023-12-27\n",
      "740      NaN   Region_5    NaN        10.0  2024-01-11\n",
      "826      NaN  Region_10    NaN        13.0  2024-04-06\n",
      "966      NaN   Region_2    NaN        13.0  2024-08-24\n",
      "990      NaN   Region_2    NaN         NaN  2024-09-17\n",
      "1048     NaN   Region_8    NaN         5.0  2023-12-27\n"
     ]
    }
   ],
   "source": [
    "## find the product that still have missing value in Price column\n",
    "print(df[df['Price'].isnull() == True])"
   ]
  },
  {
   "cell_type": "code",
   "execution_count": 83,
   "metadata": {},
   "outputs": [],
   "source": [
    "##since the missing price with the unkown product, remove missing value for \"Product\"\n",
    "df.dropna(subset= 'Product', inplace= True)"
   ]
  },
  {
   "cell_type": "code",
   "execution_count": 84,
   "metadata": {},
   "outputs": [
    {
     "name": "stdout",
     "output_type": "stream",
     "text": [
      "0\n"
     ]
    }
   ],
   "source": [
    "##check if missing value are removed\n",
    "print(df['Product'].isnull().sum())"
   ]
  },
  {
   "cell_type": "code",
   "execution_count": 86,
   "metadata": {},
   "outputs": [
    {
     "name": "stdout",
     "output_type": "stream",
     "text": [
      "0\n"
     ]
    }
   ],
   "source": [
    "print(df['Price'].isnull().sum())"
   ]
  },
  {
   "cell_type": "code",
   "execution_count": 85,
   "metadata": {},
   "outputs": [],
   "source": [
    "#### fill missing value in 'Units sold' by using the mean for each product\n",
    "df['Units Sold'].fillna(df.groupby('Product')['Units Sold'].transform('mean'), inplace= True)"
   ]
  },
  {
   "cell_type": "code",
   "execution_count": 88,
   "metadata": {},
   "outputs": [
    {
     "name": "stdout",
     "output_type": "stream",
     "text": [
      "0\n"
     ]
    }
   ],
   "source": [
    "##check if missing value are removed\n",
    "print(df['Units Sold'].isnull().sum())\n"
   ]
  },
  {
   "cell_type": "code",
   "execution_count": 89,
   "metadata": {},
   "outputs": [],
   "source": [
    "##remove missing value for 'Region'\n",
    "df.dropna(subset= 'Region', inplace= True)"
   ]
  },
  {
   "cell_type": "code",
   "execution_count": 90,
   "metadata": {},
   "outputs": [
    {
     "name": "stdout",
     "output_type": "stream",
     "text": [
      "0\n"
     ]
    }
   ],
   "source": [
    "print(df['Region'].isnull().sum())\n"
   ]
  },
  {
   "cell_type": "code",
   "execution_count": 91,
   "metadata": {},
   "outputs": [
    {
     "name": "stdout",
     "output_type": "stream",
     "text": [
      "<class 'pandas.core.frame.DataFrame'>\n",
      "Index: 811 entries, 2 to 1049\n",
      "Data columns (total 5 columns):\n",
      " #   Column      Non-Null Count  Dtype  \n",
      "---  ------      --------------  -----  \n",
      " 0   Product     811 non-null    object \n",
      " 1   Region      811 non-null    object \n",
      " 2   Price       811 non-null    float64\n",
      " 3   Units Sold  811 non-null    float64\n",
      " 4   Sale Date   811 non-null    object \n",
      "dtypes: float64(2), object(3)\n",
      "memory usage: 38.0+ KB\n"
     ]
    }
   ],
   "source": [
    "df.info()"
   ]
  },
  {
   "cell_type": "code",
   "execution_count": 92,
   "metadata": {},
   "outputs": [],
   "source": [
    "## remove duplicates\n",
    "df.drop_duplicates(inplace= True)"
   ]
  },
  {
   "cell_type": "code",
   "execution_count": 93,
   "metadata": {},
   "outputs": [
    {
     "name": "stdout",
     "output_type": "stream",
     "text": [
      "<class 'pandas.core.frame.DataFrame'>\n",
      "Index: 772 entries, 2 to 999\n",
      "Data columns (total 5 columns):\n",
      " #   Column      Non-Null Count  Dtype  \n",
      "---  ------      --------------  -----  \n",
      " 0   Product     772 non-null    object \n",
      " 1   Region      772 non-null    object \n",
      " 2   Price       772 non-null    float64\n",
      " 3   Units Sold  772 non-null    float64\n",
      " 4   Sale Date   772 non-null    object \n",
      "dtypes: float64(2), object(3)\n",
      "memory usage: 36.2+ KB\n"
     ]
    }
   ],
   "source": [
    "df.info()"
   ]
  },
  {
   "cell_type": "code",
   "execution_count": 94,
   "metadata": {},
   "outputs": [
    {
     "data": {
      "text/plain": [
       "<Axes: xlabel='Price', ylabel='Count'>"
      ]
     },
     "execution_count": 94,
     "metadata": {},
     "output_type": "execute_result"
    },
    {
     "data": {
      "image/png": "[encoded data removed]",
      "text/plain": [
       "<Figure size 640x480 with 1 Axes>"
      ]
     },
     "metadata": {},
     "output_type": "display_data"
    }
   ],
   "source": [
    "##histgram of 'Price'\n",
    "sns.histplot(df['Price'])"
   ]
  },
  {
   "cell_type": "code",
   "execution_count": 95,
   "metadata": {},
   "outputs": [
    {
     "data": {
      "text/plain": [
       "<Axes: xlabel='Units Sold', ylabel='Count'>"
      ]
     },
     "execution_count": 95,
     "metadata": {},
     "output_type": "execute_result"
    },
    {
     "data": {
      "image/png": "[encoded data removed]",
      "text/plain": [
       "<Figure size 640x480 with 1 Axes>"
      ]
     },
     "metadata": {},
     "output_type": "display_data"
    }
   ],
   "source": [
    "##histgram for 'United Sold'\n",
    "sns.histplot(df['Units Sold'])\n"
   ]
  },
  {
   "cell_type": "code",
   "execution_count": 97,
   "metadata": {},
   "outputs": [
    {
     "data": {
      "text/plain": [
       "<Axes: xlabel='Price', ylabel='Units Sold'>"
      ]
     },
     "execution_count": 97,
     "metadata": {},
     "output_type": "execute_result"
    },
    {
     "data": {
      "image/png": "[encoded data removed]",
      "text/plain": [
       "<Figure size 640x480 with 1 Axes>"
      ]
     },
     "metadata": {},
     "output_type": "display_data"
    }
   ],
   "source": [
    "## scatterplot price vs units sold\n",
    "sns.scatterplot(data = df, x = 'Price', y = 'Units Sold')\n"
   ]
  },
  {
   "cell_type": "code",
   "execution_count": null,
   "metadata": {},
   "outputs": [],
   "source": [
    "'"
   ]
  },
  {
   "cell_type": "code",
   "execution_count": 109,
   "metadata": {},
   "outputs": [],
   "source": [
    "region_mostsold= df.groupby('Region')['Units Sold'].sum().reset_index()"
   ]
  },
  {
   "cell_type": "code",
   "execution_count": 111,
   "metadata": {},
   "outputs": [
    {
     "data": {
      "text/html": [
       "<div>\n",
       "<style scoped>\n",
       "    .dataframe tbody tr th:only-of-type {\n",
       "        vertical-align: middle;\n",
       "    }\n",
       "\n",
       "    .dataframe tbody tr th {\n",
       "        vertical-align: top;\n",
       "    }\n",
       "\n",
       "    .dataframe thead th {\n",
       "        text-align: right;\n",
       "    }\n",
       "</style>\n",
       "<table border=\"1\" class=\"dataframe\">\n",
       "  <thead>\n",
       "    <tr style=\"text-align: right;\">\n",
       "      <th></th>\n",
       "      <th>Region</th>\n",
       "      <th>Units Sold</th>\n",
       "    </tr>\n",
       "  </thead>\n",
       "  <tbody>\n",
       "    <tr>\n",
       "      <th>9</th>\n",
       "      <td>Region_9</td>\n",
       "      <td>944.315016</td>\n",
       "    </tr>\n",
       "    <tr>\n",
       "      <th>1</th>\n",
       "      <td>Region_10</td>\n",
       "      <td>874.249313</td>\n",
       "    </tr>\n",
       "    <tr>\n",
       "      <th>5</th>\n",
       "      <td>Region_5</td>\n",
       "      <td>825.584581</td>\n",
       "    </tr>\n",
       "    <tr>\n",
       "      <th>4</th>\n",
       "      <td>Region_4</td>\n",
       "      <td>823.188889</td>\n",
       "    </tr>\n",
       "    <tr>\n",
       "      <th>3</th>\n",
       "      <td>Region_3</td>\n",
       "      <td>779.071591</td>\n",
       "    </tr>\n",
       "    <tr>\n",
       "      <th>8</th>\n",
       "      <td>Region_8</td>\n",
       "      <td>753.499695</td>\n",
       "    </tr>\n",
       "    <tr>\n",
       "      <th>6</th>\n",
       "      <td>Region_6</td>\n",
       "      <td>749.699711</td>\n",
       "    </tr>\n",
       "    <tr>\n",
       "      <th>0</th>\n",
       "      <td>Region_1</td>\n",
       "      <td>712.357143</td>\n",
       "    </tr>\n",
       "    <tr>\n",
       "      <th>2</th>\n",
       "      <td>Region_2</td>\n",
       "      <td>684.056818</td>\n",
       "    </tr>\n",
       "    <tr>\n",
       "      <th>7</th>\n",
       "      <td>Region_7</td>\n",
       "      <td>606.033061</td>\n",
       "    </tr>\n",
       "  </tbody>\n",
       "</table>\n",
       "</div>"
      ],
      "text/plain": [
       "      Region  Units Sold\n",
       "9   Region_9  944.315016\n",
       "1  Region_10  874.249313\n",
       "5   Region_5  825.584581\n",
       "4   Region_4  823.188889\n",
       "3   Region_3  779.071591\n",
       "8   Region_8  753.499695\n",
       "6   Region_6  749.699711\n",
       "0   Region_1  712.357143\n",
       "2   Region_2  684.056818\n",
       "7   Region_7  606.033061"
      ]
     },
     "execution_count": 111,
     "metadata": {},
     "output_type": "execute_result"
    }
   ],
   "source": [
    "##find the most sold regions\n",
    "region_mostsold.sort_values('Units Sold', ascending = False)"
   ]
  },
  {
   "cell_type": "code",
   "execution_count": null,
   "metadata": {},
   "outputs": [],
   "source": []
  }
 ],
 "metadata": {
  "kernelspec": {
   "display_name": "Python 3",
   "language": "python",
   "name": "python3"
  },
  "language_info": {
   "codemirror_mode": {
    "name": "ipython",
    "version": 3
   },
   "file_extension": ".py",
   "mimetype": "text/x-python",
   "name": "python",
   "nbconvert_exporter": "python",
   "pygments_lexer": "ipython3",
   "version": "3.9.8"
  },
  "orig_nbformat": 4
 },
 "nbformat": 4,
 "nbformat_minor": 2
}
